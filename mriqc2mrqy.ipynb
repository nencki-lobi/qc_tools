{
 "cells": [
  {
   "cell_type": "code",
   "execution_count": null,
   "id": "6252f3de",
   "metadata": {},
   "outputs": [],
   "source": [
    "def add_image_column(input_file, output_file):\n",
    "    with open(input_file, 'r') as f_input:\n",
    "        lines = f_input.readlines()\n",
    "\n",
    "    header = lines[0].strip().split('\\t')\n",
    "    header[0] = \"#dataset:Patient\"\n",
    "    header.insert(1, \"Name of Images\")\n",
    "\n",
    "    with open(output_file, 'w') as f_output:\n",
    "        f_output.write(\"#start_time:\t2021-12-20 09:29:49.078558\\n\")\n",
    "        f_output.write(\"#outdir:\t/home/UserInterface/Data/GRIEG\\n\")\n",
    "        \n",
    "        f_output.write('\\t'.join(header) + '\\n')\n",
    "\n",
    "        for line in lines[1:]:\n",
    "            values = line.strip().split('\\t')\n",
    "            new_value = f\"['{values[0]}.png']\"\n",
    "            values.insert(1, new_value)\n",
    "            f_output.write('\\t'.join(values) + '\\n')"
   ]
  },
  {
   "cell_type": "code",
   "execution_count": null,
   "id": "73cb6dd3",
   "metadata": {},
   "outputs": [],
   "source": [
    "add_image_column('group_T1w.tsv','mod.tsv')"
   ]
  },
  {
   "cell_type": "code",
   "execution_count": 1,
   "id": "8abf4f64",
   "metadata": {},
   "outputs": [],
   "source": [
    "import numpy as np\n",
    "\n",
    "def read_tsv_file(file_path):\n",
    "    with open(file_path, 'r') as file:\n",
    "        lines = file.readlines()\n",
    "        data = []\n",
    "        for line in lines[1:]:\n",
    "            # Remove newline character and split values by tabs\n",
    "            values = line.strip().split('\\t')\n",
    "            \n",
    "            #skip the first column with names\n",
    "            values = values[1:]\n",
    "            \n",
    "            # Convert values to floats and append to data list\n",
    "            data.append([float(value) for value in values])\n",
    "        # Convert data list to NumPy array\n",
    "        array = np.array(data)\n",
    "        return array"
   ]
  },
  {
   "cell_type": "code",
   "execution_count": 2,
   "id": "d60b949f",
   "metadata": {},
   "outputs": [],
   "source": [
    "file_path = 'group_T1w.tsv'\n",
    "data = read_tsv_file(file_path)"
   ]
  },
  {
   "cell_type": "code",
   "execution_count": 5,
   "id": "fc91f0ae",
   "metadata": {},
   "outputs": [
    {
     "ename": "ModuleNotFoundError",
     "evalue": "No module named 'tsne'",
     "output_type": "error",
     "traceback": [
      "\u001b[0;31m---------------------------------------------------------------------------\u001b[0m",
      "\u001b[0;31mModuleNotFoundError\u001b[0m                       Traceback (most recent call last)",
      "Cell \u001b[0;32mIn[5], line 1\u001b[0m\n\u001b[0;32m----> 1\u001b[0m \u001b[38;5;28;01mfrom\u001b[39;00m \u001b[38;5;21;01mtsne\u001b[39;00m \u001b[38;5;28;01mimport\u001b[39;00m bh_sne\n\u001b[1;32m      2\u001b[0m data_tsne \u001b[38;5;241m=\u001b[39m bh_sne(data)\n\u001b[1;32m      3\u001b[0m xs \u001b[38;5;241m=\u001b[39m data_tsne[:, \u001b[38;5;241m0\u001b[39m]\n",
      "\u001b[0;31mModuleNotFoundError\u001b[0m: No module named 'tsne'"
     ]
    }
   ],
   "source": [
    "from tsne import bh_sne\n",
    "data_tsne = bh_sne(data)\n",
    "xs = data_tsne[:, 0]\n",
    "ys = data_tsne[:, 1]"
   ]
  },
  {
   "cell_type": "code",
   "execution_count": null,
   "id": "7caa8268",
   "metadata": {},
   "outputs": [],
   "source": [
    "for i in range(len(data)):\n",
    "    data[i].append(xs[i])\n",
    "    data[i].append(ys[i])"
   ]
  },
  {
   "cell_type": "code",
   "execution_count": null,
   "id": "7e684e04",
   "metadata": {},
   "outputs": [],
   "source": [
    "data.shape"
   ]
  }
 ],
 "metadata": {
  "kernelspec": {
   "display_name": "Python 3 (ipykernel)",
   "language": "python",
   "name": "python3"
  },
  "language_info": {
   "codemirror_mode": {
    "name": "ipython",
    "version": 3
   },
   "file_extension": ".py",
   "mimetype": "text/x-python",
   "name": "python",
   "nbconvert_exporter": "python",
   "pygments_lexer": "ipython3",
   "version": "3.9.17"
  }
 },
 "nbformat": 4,
 "nbformat_minor": 5
}
