{
 "cells": [
  {
   "cell_type": "code",
   "execution_count": 2,
   "id": "8abf4f64",
   "metadata": {},
   "outputs": [],
   "source": [
    "import numpy as np\n",
    "\n",
    "def read_tsv_file(file_path):\n",
    "    with open(file_path, 'r') as file:\n",
    "        lines = file.readlines()\n",
    "        data = []\n",
    "        for line in lines[1:]:\n",
    "            # Remove newline character and split values by tabs\n",
    "            values = line.strip().split('\\t')\n",
    "            \n",
    "            #skip the first column with names\n",
    "            values = values[1:]\n",
    "            \n",
    "            # Convert values to floats and append to data list\n",
    "            data.append([float(value) for value in values])\n",
    "        # Convert data list to NumPy array\n",
    "        array = np.array(data)\n",
    "        return array"
   ]
  },
  {
   "cell_type": "code",
   "execution_count": 3,
   "id": "d60b949f",
   "metadata": {},
   "outputs": [],
   "source": [
    "file_path = 'group_T1w.tsv'\n",
    "data = read_tsv_file(file_path)"
   ]
  },
  {
   "cell_type": "code",
   "execution_count": 4,
   "id": "fc91f0ae",
   "metadata": {},
   "outputs": [],
   "source": [
    "from tsne import bh_sne\n",
    "data_tsne = bh_sne(data)\n",
    "xs = data_tsne[:, 0]\n",
    "ys = data_tsne[:, 1]"
   ]
  },
  {
   "cell_type": "code",
   "execution_count": 7,
   "id": "7caa8268",
   "metadata": {},
   "outputs": [],
   "source": [
    "data=np.column_stack((data,xs,ys))"
   ]
  },
  {
   "cell_type": "code",
   "execution_count": 8,
   "id": "7e684e04",
   "metadata": {},
   "outputs": [
    {
     "data": {
      "text/plain": [
       "(1134, 70)"
      ]
     },
     "execution_count": 8,
     "metadata": {},
     "output_type": "execute_result"
    }
   ],
   "source": [
    "data.shape"
   ]
  },
  {
   "cell_type": "code",
   "execution_count": 9,
   "id": "b20c6ff3",
   "metadata": {},
   "outputs": [],
   "source": [
    "from tsne import bh_sne\n",
    "import numpy as np"
   ]
  },
  {
   "cell_type": "code",
   "execution_count": null,
   "id": "4bf6b77f",
   "metadata": {},
   "outputs": [],
   "source": [
    "def mriqc2mrqy(input_file, output_file):\n",
    "    with open(input_file, 'r') as f_input:\n",
    "        lines = f_input.readlines()\n",
    "\n",
    "    header = lines[0].strip().split('\\t')\n",
    "    header[0] = \"#dataset:Patient\"\n",
    "    header.insert(1, \"Name of Images\")\n",
    "    \n",
    "    #add t-sne (and umap header)\n",
    "    header.extend([\"x\", \"y\"])    \n",
    "\n",
    "    with open(output_file, 'w') as f_output:\n",
    "        f_output.write(\"#start_time:\t2021-12-20 09:29:49.078558\\n\")\n",
    "        f_output.write(\"#outdir:\t/home/UserInterface/Data/GRIEG\\n\")\n",
    "        \n",
    "        f_output.write('\\t'.join(header) +'\\n')\n",
    "\n",
    "        for line in lines[1:]:\n",
    "            values = line.strip().split('\\t')\n",
    "            new_value = f\"['{values[0]}.png']\"\n",
    "            values.insert(1, new_value)\n",
    "            f_output.write('\\t'.join(values) + '\\n')"
   ]
  },
  {
   "cell_type": "code",
   "execution_count": 27,
   "id": "0e7feb50",
   "metadata": {},
   "outputs": [],
   "source": [
    "mriqc2mrqy('group_T1w.tsv','mod.tsv')"
   ]
  },
  {
   "cell_type": "code",
   "execution_count": 26,
   "id": "c7432bac",
   "metadata": {},
   "outputs": [],
   "source": [
    "def mriqc2mrqy(input_file, output_file):\n",
    "    with open(input_file, 'r') as f_input:\n",
    "        lines = f_input.readlines()\n",
    "\n",
    "    header = lines[0].strip().split('\\t')\n",
    "    header[0] = \"#dataset:Patient\"\n",
    "    header.insert(1, \"Name of Images\")\n",
    "    \n",
    "    #add t-sne (and umap header)\n",
    "    header.extend([\"x\", \"y\"])    \n",
    "\n",
    "    with open(output_file, 'w') as f_output:\n",
    "        f_output.write(\"#start_time:\t2021-12-20 09:29:49.078558\\n\")\n",
    "        f_output.write(\"#outdir:\t/home/UserInterface/Data/GRIEG\\n\")\n",
    "        \n",
    "        f_output.write('\\t'.join(header) +'\\n')\n",
    "\n",
    "        data=[]\n",
    "        subjids=[]\n",
    "        for line in lines[1:]:\n",
    "            values = line.strip().split('\\t')\n",
    "            #values = values[1:] #skip first with subjids\n",
    "            subjids.append(values[0])\n",
    "            data.append([float(value) for value in values[1:]])\n",
    "         \n",
    "        #calculate tsne coordinates\n",
    "        array = np.array(data)\n",
    "        data_tsne = bh_sne(array)\n",
    "        xs = data_tsne[:, 0]\n",
    "        ys = data_tsne[:, 1]\n",
    "        #data=np.column_stack((data,xs,ys))\n",
    "        \n",
    "        for subjid, values, x, y in zip(subjids,data,xs,ys):\n",
    "            images = f\"['{subjid}.png']\"\n",
    "            values.insert(0,images)\n",
    "            values.insert(0,subjid)\n",
    "            values.append(str(x))\n",
    "            values.append(str(y))\n",
    "            f_output.write('\\t'.join(map(str,values)) + '\\n')"
   ]
  },
  {
   "cell_type": "code",
   "execution_count": null,
   "id": "3aa47a5d",
   "metadata": {},
   "outputs": [],
   "source": []
  }
 ],
 "metadata": {
  "kernelspec": {
   "display_name": "Python 3 (ipykernel)",
   "language": "python",
   "name": "python3"
  },
  "language_info": {
   "codemirror_mode": {
    "name": "ipython",
    "version": 3
   },
   "file_extension": ".py",
   "mimetype": "text/x-python",
   "name": "python",
   "nbconvert_exporter": "python",
   "pygments_lexer": "ipython3",
   "version": "3.10.10"
  }
 },
 "nbformat": 4,
 "nbformat_minor": 5
}
