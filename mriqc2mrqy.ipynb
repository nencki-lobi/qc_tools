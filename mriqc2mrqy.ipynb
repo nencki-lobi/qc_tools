{
 "cells": [
  {
   "cell_type": "code",
   "execution_count": 81,
   "id": "ec2412c1",
   "metadata": {},
   "outputs": [],
   "source": [
    "mriqc2mrqy('group_T1w.tsv','mod.tsv')"
   ]
  },
  {
   "cell_type": "code",
   "execution_count": 80,
   "id": "ea5868ad",
   "metadata": {},
   "outputs": [],
   "source": [
    "from tsne import bh_sne\n",
    "import numpy as np\n",
    "\n",
    "def mriqc2mrqy(input_file, output_file):\n",
    "    with open(input_file, 'r') as f_input:\n",
    "        lines = f_input.readlines()\n",
    "\n",
    "    header = lines[0].strip().split('\\t')\n",
    "    header[0] = \"#dataset:Patient\"\n",
    "    header.insert(1, \"Name of Images\")\n",
    "    header.insert(2, \"NUM\") #number of images to show up\n",
    "    \n",
    "    #add t-sne (and umap header)\n",
    "    header.extend([\"x\", \"y\"])    \n",
    "\n",
    "    with open(output_file, 'w') as f_output:\n",
    "        f_output.write(\"#start_time:\t2021-12-20 09:29:49.078558\\n\")\n",
    "        f_output.write(\"#outdir:\t/home/UserInterface/Data/GRIEG\\n\")\n",
    "        \n",
    "        f_output.write('\\t'.join(header) +'\\n')\n",
    "\n",
    "        data=[]\n",
    "        subjids=[]\n",
    "        for line in lines[1:]:\n",
    "            values = line.strip().split('\\t')\n",
    "            #values = values[1:] #skip first with subjids\n",
    "            subjids.append(values[0])\n",
    "            data.append([float(value) for value in values[1:]])\n",
    "         \n",
    "        #calculate tsne coordinates\n",
    "        array = np.array(data)\n",
    "        data_tsne = bh_sne(array)\n",
    "        xs = data_tsne[:, 0]\n",
    "        ys = data_tsne[:, 1]\n",
    "        #data=np.column_stack((data,xs,ys))\n",
    "        \n",
    "        for subjid, values, x, y in zip(subjids,data,xs,ys):\n",
    "            #images = f\"['{subjid}.png']\"\n",
    "            images = [f\"{i}.png\" for i in range(1, 43)]\n",
    "            values.insert(0,images)\n",
    "            values.insert(1,42) #number of images to show up\n",
    "            values.insert(0,subjid)\n",
    "            values.append(str(x))\n",
    "            values.append(str(y))\n",
    "            f_output.write('\\t'.join(map(str,values)) + '\\n')"
   ]
  },
  {
   "cell_type": "code",
   "execution_count": 77,
   "id": "a2bf30e8",
   "metadata": {},
   "outputs": [],
   "source": [
    "# Example usage:\n",
    "html_file = 'sub-91025908_T1w.html'\n",
    "\n",
    "extract_base64_images_up_to_stop(html_file)"
   ]
  },
  {
   "cell_type": "code",
   "execution_count": 78,
   "id": "78fd0e7c",
   "metadata": {},
   "outputs": [],
   "source": [
    "import re\n",
    "import base64\n",
    "import os\n",
    "\n",
    "def extract_base64_images_up_to_stop(html_file):\n",
    "    output_dir = os.path.splitext(html_file)[0]\n",
    "    os.makedirs(output_dir, exist_ok=True)\n",
    "  \n",
    "    with open(html_file, 'r', encoding='utf-8') as f:\n",
    "        html_content = f.read()\n",
    "\n",
    "    # Split the HTML content at the line with '<div class=\"card-header\">Background noise</div>'\n",
    "    split_content = html_content.split('<div class=\"card-header\">Background noise</div>', 1)\n",
    "    first_part = split_content[0]\n",
    "\n",
    "    # Use regular expression to find the base64-encoded image data in the first part\n",
    "    base64_images = re.findall(r'xlink:href=\"data:image/(\\w+);base64,([^\"]+)\"', first_part)\n",
    "\n",
    "    image_counter = 0\n",
    "    image_id=1\n",
    "    for image_format, base64_data in base64_images:\n",
    "        image_bytes = base64.b64decode(base64_data)\n",
    "        image_counter += 1\n",
    "        if image_counter % 3 == 0:\n",
    "            with open(os.path.join(output_dir,f\"{image_id}.{image_format}\"), 'wb') as f_output:\n",
    "                f_output.write(image_bytes)\n",
    "                image_id+=1\n"
   ]
  },
  {
   "cell_type": "code",
   "execution_count": 75,
   "id": "34d11ea4",
   "metadata": {},
   "outputs": [
    {
     "name": "stdout",
     "output_type": "stream",
     "text": [
      "['1.png', '2.png', '3.png', '4.png', '5.png', '6.png', '7.png', '8.png', '9.png', '10.png', '11.png', '12.png', '13.png', '14.png', '15.png', '16.png', '17.png', '18.png', '19.png', '20.png', '21.png', '22.png', '23.png', '24.png', '25.png', '26.png', '27.png', '28.png', '29.png', '30.png', '31.png', '32.png', '33.png', '34.png', '35.png', '36.png', '37.png', '38.png', '39.png', '40.png', '41.png', '42.png']\n"
     ]
    }
   ],
   "source": [
    "file_list = [f\"{i}.png\" for i in range(1, 43)]\n",
    "\n",
    "print(file_list)"
   ]
  },
  {
   "cell_type": "code",
   "execution_count": null,
   "id": "913a3a7d",
   "metadata": {},
   "outputs": [],
   "source": []
  }
 ],
 "metadata": {
  "kernelspec": {
   "display_name": "Python 3 (ipykernel)",
   "language": "python",
   "name": "python3"
  },
  "language_info": {
   "codemirror_mode": {
    "name": "ipython",
    "version": 3
   },
   "file_extension": ".py",
   "mimetype": "text/x-python",
   "name": "python",
   "nbconvert_exporter": "python",
   "pygments_lexer": "ipython3",
   "version": "3.10.10"
  }
 },
 "nbformat": 4,
 "nbformat_minor": 5
}
