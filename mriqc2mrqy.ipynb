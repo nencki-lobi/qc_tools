{
 "cells": [
  {
   "cell_type": "code",
   "execution_count": 6,
   "id": "6252f3de",
   "metadata": {},
   "outputs": [],
   "source": [
    "def add_image_column(input_file, output_file):\n",
    "    with open(input_file, 'r') as f_input:\n",
    "        lines = f_input.readlines()\n",
    "\n",
    "    header = lines[0].strip().split('\\t')\n",
    "    header[0] = \"#dataset:Patient\"\n",
    "    header.insert(1, \"Name of Images\")\n",
    "\n",
    "    with open(output_file, 'w') as f_output:\n",
    "        f_output.write(\"#start_time:\t2021-12-20 09:29:49.078558\\n\")\n",
    "        f_output.write(\"#outdir:\t/home/UserInterface/Data/GRIEG\\n\")\n",
    "        \n",
    "        f_output.write('\\t'.join(header) + '\\n')\n",
    "\n",
    "        for line in lines[1:]:\n",
    "            values = line.strip().split('\\t')\n",
    "            new_value = f\"['{values[0]}.png']\"\n",
    "            values.insert(1, new_value)\n",
    "            f_output.write('\\t'.join(values) + '\\n')"
   ]
  },
  {
   "cell_type": "code",
   "execution_count": 7,
   "id": "73cb6dd3",
   "metadata": {},
   "outputs": [],
   "source": [
    "add_image_column('group_T1w.tsv','mod.tsv')"
   ]
  },
  {
   "cell_type": "code",
   "execution_count": null,
   "id": "8abf4f64",
   "metadata": {},
   "outputs": [],
   "source": []
  }
 ],
 "metadata": {
  "kernelspec": {
   "display_name": "Python 3 (ipykernel)",
   "language": "python",
   "name": "python3"
  },
  "language_info": {
   "codemirror_mode": {
    "name": "ipython",
    "version": 3
   },
   "file_extension": ".py",
   "mimetype": "text/x-python",
   "name": "python",
   "nbconvert_exporter": "python",
   "pygments_lexer": "ipython3",
   "version": "3.9.17"
  }
 },
 "nbformat": 4,
 "nbformat_minor": 5
}
