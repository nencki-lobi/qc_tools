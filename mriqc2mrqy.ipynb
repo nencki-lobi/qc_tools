{
 "cells": [
  {
   "cell_type": "code",
   "execution_count": 2,
   "id": "8abf4f64",
   "metadata": {},
   "outputs": [],
   "source": [
    "import numpy as np\n",
    "\n",
    "def read_tsv_file(file_path):\n",
    "    with open(file_path, 'r') as file:\n",
    "        lines = file.readlines()\n",
    "        data = []\n",
    "        for line in lines[1:]:\n",
    "            # Remove newline character and split values by tabs\n",
    "            values = line.strip().split('\\t')\n",
    "            \n",
    "            #skip the first column with names\n",
    "            values = values[1:]\n",
    "            \n",
    "            # Convert values to floats and append to data list\n",
    "            data.append([float(value) for value in values])\n",
    "        # Convert data list to NumPy array\n",
    "        array = np.array(data)\n",
    "        return array"
   ]
  },
  {
   "cell_type": "code",
   "execution_count": 3,
   "id": "d60b949f",
   "metadata": {},
   "outputs": [],
   "source": [
    "file_path = 'group_T1w.tsv'\n",
    "data = read_tsv_file(file_path)"
   ]
  },
  {
   "cell_type": "code",
   "execution_count": 4,
   "id": "fc91f0ae",
   "metadata": {},
   "outputs": [],
   "source": [
    "from tsne import bh_sne\n",
    "data_tsne = bh_sne(data)\n",
    "xs = data_tsne[:, 0]\n",
    "ys = data_tsne[:, 1]"
   ]
  },
  {
   "cell_type": "code",
   "execution_count": 7,
   "id": "7caa8268",
   "metadata": {},
   "outputs": [],
   "source": [
    "data=np.column_stack((data,xs,ys))"
   ]
  },
  {
   "cell_type": "code",
   "execution_count": 8,
   "id": "7e684e04",
   "metadata": {},
   "outputs": [
    {
     "data": {
      "text/plain": [
       "(1134, 70)"
      ]
     },
     "execution_count": 8,
     "metadata": {},
     "output_type": "execute_result"
    }
   ],
   "source": [
    "data.shape"
   ]
  },
  {
   "cell_type": "code",
   "execution_count": 9,
   "id": "05d36dc2",
   "metadata": {},
   "outputs": [],
   "source": [
    "from tsne import bh_sne\n",
    "import numpy as np"
   ]
  },
  {
   "cell_type": "code",
   "execution_count": null,
   "id": "1babcda4",
   "metadata": {},
   "outputs": [],
   "source": [
    "def mriqc2mrqy(input_file, output_file):\n",
    "    with open(input_file, 'r') as f_input:\n",
    "        lines = f_input.readlines()\n",
    "\n",
    "    header = lines[0].strip().split('\\t')\n",
    "    header[0] = \"#dataset:Patient\"\n",
    "    header.insert(1, \"Name of Images\")\n",
    "    \n",
    "    #add t-sne (and umap header)\n",
    "    header.extend([\"x\", \"y\"])    \n",
    "\n",
    "    with open(output_file, 'w') as f_output:\n",
    "        f_output.write(\"#start_time:\t2021-12-20 09:29:49.078558\\n\")\n",
    "        f_output.write(\"#outdir:\t/home/UserInterface/Data/GRIEG\\n\")\n",
    "        \n",
    "        f_output.write('\\t'.join(header) +'\\n')\n",
    "\n",
    "        for line in lines[1:]:\n",
    "            values = line.strip().split('\\t')\n",
    "            new_value = f\"['{values[0]}.png']\"\n",
    "            values.insert(1, new_value)\n",
    "            f_output.write('\\t'.join(values) + '\\n')"
   ]
  },
  {
   "cell_type": "code",
   "execution_count": 27,
   "id": "9c160a09",
   "metadata": {},
   "outputs": [],
   "source": [
    "mriqc2mrqy('group_T1w.tsv','mod.tsv')"
   ]
  },
  {
   "cell_type": "code",
   "execution_count": 26,
   "id": "ed1936a3",
   "metadata": {},
   "outputs": [],
   "source": [
    "def mriqc2mrqy(input_file, output_file):\n",
    "    with open(input_file, 'r') as f_input:\n",
    "        lines = f_input.readlines()\n",
    "\n",
    "    header = lines[0].strip().split('\\t')\n",
    "    header[0] = \"#dataset:Patient\"\n",
    "    header.insert(1, \"Name of Images\")\n",
    "    \n",
    "    #add t-sne (and umap header)\n",
    "    header.extend([\"x\", \"y\"])    \n",
    "\n",
    "    with open(output_file, 'w') as f_output:\n",
    "        f_output.write(\"#start_time:\t2021-12-20 09:29:49.078558\\n\")\n",
    "        f_output.write(\"#outdir:\t/home/UserInterface/Data/GRIEG\\n\")\n",
    "        \n",
    "        f_output.write('\\t'.join(header) +'\\n')\n",
    "\n",
    "        data=[]\n",
    "        subjids=[]\n",
    "        for line in lines[1:]:\n",
    "            values = line.strip().split('\\t')\n",
    "            #values = values[1:] #skip first with subjids\n",
    "            subjids.append(values[0])\n",
    "            data.append([float(value) for value in values[1:]])\n",
    "         \n",
    "        #calculate tsne coordinates\n",
    "        array = np.array(data)\n",
    "        data_tsne = bh_sne(array)\n",
    "        xs = data_tsne[:, 0]\n",
    "        ys = data_tsne[:, 1]\n",
    "        #data=np.column_stack((data,xs,ys))\n",
    "        \n",
    "        for subjid, values, x, y in zip(subjids,data,xs,ys):\n",
    "            images = f\"['{subjid}.png']\"\n",
    "            values.insert(0,images)\n",
    "            values.insert(0,subjid)\n",
    "            values.append(str(x))\n",
    "            values.append(str(y))\n",
    "            f_output.write('\\t'.join(map(str,values)) + '\\n')"
   ]
  },
  {
   "cell_type": "code",
   "execution_count": 59,
   "id": "9fe1fa26",
   "metadata": {},
   "outputs": [],
   "source": [
    "import re\n",
    "import base64\n",
    "\n",
    "def extract_base64_image_from_html(html_file, output_file):\n",
    "    with open(html_file, 'r', encoding='utf-8') as f:\n",
    "        html_content = f.read()\n",
    "\n",
    "    # Use regular expression to find the base64-encoded image data\n",
    "    #base64_images = re.findall(r'xlink:href=\"data:image/(\\w+);base64,(.*?)\"', html_content)\n",
    "    base64_images = re.findall(r'xlink:href=\"data:image/(\\w+);base64,([^\"]+)\"', html_content)\n",
    "\n",
    "    for i, (image_format, base64_data) in enumerate(base64_images):\n",
    "        print(image_format)\n",
    "        # Convert base64 data to bytes\n",
    "        image_bytes = base64.b64decode(base64_data)\n",
    "\n",
    "        # Save the image bytes to a new image file\n",
    "        with open(f\"{output_file}_{i}.{image_format}\", 'wb') as f_output:\n",
    "            f_output.write(image_bytes)\n",
    "\n",
    "\n",
    "\n",
    "\n"
   ]
  },
  {
   "cell_type": "code",
   "execution_count": 62,
   "id": "aa88d478",
   "metadata": {},
   "outputs": [
    {
     "name": "stderr",
     "output_type": "stream",
     "text": [
      "/var/folders/yt/fj2qpycs3bb9n4yq8bry3wcm0000gn/T/ipykernel_1159/1968747242.py:12: DeprecationWarning: The 'text' argument to find()-type methods is deprecated. Use 'string' instead.\n",
      "  stop_element = soup.find('div', class_='card-header', text='Background noise')\n"
     ]
    }
   ],
   "source": [
    "# Example usage:\n",
    "html_file = 'sub-91025908_T1w.html'\n",
    "output_file = 'extracted_image'\n",
    "extract_images_and_stop(html_file, output_file)"
   ]
  },
  {
   "cell_type": "code",
   "execution_count": 61,
   "id": "a70b2bfe",
   "metadata": {},
   "outputs": [],
   "source": [
    "import re\n",
    "import base64\n",
    "from bs4 import BeautifulSoup\n",
    "\n",
    "def extract_images_and_stop(html_file, output_file):\n",
    "    with open(html_file, 'r', encoding='utf-8') as f:\n",
    "        html_content = f.read()\n",
    "\n",
    "    soup = BeautifulSoup(html_content, 'html.parser')\n",
    "    img_tags = soup.find_all('img')\n",
    "\n",
    "    stop_element = soup.find('div', class_='card-header', text='Background noise')\n",
    "    stop_extracting = False\n",
    "    image_counter = 0\n",
    "\n",
    "    for i, img_tag in enumerate(img_tags):\n",
    "        if stop_extracting:\n",
    "            break\n",
    "\n",
    "        src_data = img_tag.get('xlink:href')  # Check for xlink:href attribute\n",
    "        if src_data and src_data.startswith('data:image/'):\n",
    "            image_counter += 1\n",
    "            if image_counter % 3 == 0:\n",
    "                image_format = re.findall(r'data:image/(\\w+);', src_data)[0]\n",
    "                base64_data = re.sub('^data:image/\\w+;base64,', '', src_data)\n",
    "                image_bytes = base64.b64decode(base64_data)\n",
    "\n",
    "                with open(f\"{output_file}_{image_counter}.{image_format}\", 'wb') as f_output:\n",
    "                    f_output.write(image_bytes)\n",
    "\n",
    "        # Check if the current tag is the stop element\n",
    "        if img_tag == stop_element:\n",
    "            stop_extracting = True\n"
   ]
  },
  {
   "cell_type": "code",
   "execution_count": null,
   "id": "acb657ba",
   "metadata": {},
   "outputs": [],
   "source": []
  }
 ],
 "metadata": {
  "kernelspec": {
   "display_name": "Python 3 (ipykernel)",
   "language": "python",
   "name": "python3"
  },
  "language_info": {
   "codemirror_mode": {
    "name": "ipython",
    "version": 3
   },
   "file_extension": ".py",
   "mimetype": "text/x-python",
   "name": "python",
   "nbconvert_exporter": "python",
   "pygments_lexer": "ipython3",
   "version": "3.10.10"
  }
 },
 "nbformat": 4,
 "nbformat_minor": 5
}
